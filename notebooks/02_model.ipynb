{
 "cells": [
  {
   "cell_type": "code",
   "execution_count": 1,
   "id": "initial_id",
   "metadata": {
    "collapsed": true,
    "ExecuteTime": {
     "end_time": "2024-06-15T11:10:07.480632Z",
     "start_time": "2024-06-15T11:10:06.989228Z"
    }
   },
   "outputs": [],
   "source": [
    "import pandas as pd"
   ]
  },
  {
   "cell_type": "code",
   "outputs": [],
   "source": [
    "# Load the data\n",
    "data = pd.read_csv('../data/processed/data.csv')\n",
    "data.drop('Message', axis=1, inplace=True)\n",
    "data.head()\n",
    "data['Cleaned_Message'] = data['Cleaned_Message'].astype(str)"
   ],
   "metadata": {
    "collapsed": false,
    "ExecuteTime": {
     "end_time": "2024-06-15T11:22:50.626909Z",
     "start_time": "2024-06-15T11:22:50.608107Z"
    }
   },
   "id": "85de5b0e687d859b",
   "execution_count": 12
  },
  {
   "cell_type": "code",
   "outputs": [],
   "source": [
    "# Check the data is clean\n",
    "import re\n",
    "import nltk\n",
    "from nltk.corpus import stopwords\n",
    "from nltk.stem.porter import PorterStemmer\n",
    "# nltk.download('stopwords')\n",
    "corpus = []\n",
    "for i in range(0, len(data)):\n",
    "    review = re.sub('[^a-zA-Z]', ' ', data['Cleaned_Message'][i])\n",
    "    review = review.lower()\n",
    "    ps = PorterStemmer()\n",
    "    review = [ps.stem(word) for word in review.split() if not word in set(stopwords.words('english'))]\n",
    "    review = ' '.join(review)\n",
    "    corpus.append(review)"
   ],
   "metadata": {
    "collapsed": false,
    "ExecuteTime": {
     "end_time": "2024-06-15T11:23:03.811995Z",
     "start_time": "2024-06-15T11:22:57.227682Z"
    }
   },
   "id": "6a135873d81d8366",
   "execution_count": 13
  },
  {
   "cell_type": "code",
   "outputs": [],
   "source": [
    "# Create the Bag of Words model\n",
    "from sklearn.feature_extraction.text import CountVectorizer\n",
    "# MOST FRECUENT WORDS max_features=1500\n",
    "cv = CountVectorizer(max_features=1500)\n",
    "X = cv.fit_transform(corpus).toarray()\n",
    "y = data.iloc[:, 0].values"
   ],
   "metadata": {
    "collapsed": false,
    "ExecuteTime": {
     "end_time": "2024-06-15T11:27:01.176819Z",
     "start_time": "2024-06-15T11:27:01.075060Z"
    }
   },
   "id": "c1ddd2668757d80d",
   "execution_count": 25
  },
  {
   "cell_type": "code",
   "outputs": [
    {
     "data": {
      "text/plain": "'Create Model'"
     },
     "execution_count": 27,
     "metadata": {},
     "output_type": "execute_result"
    }
   ],
   "source": [
    "'''Create Model'''"
   ],
   "metadata": {
    "collapsed": false,
    "ExecuteTime": {
     "end_time": "2024-06-15T11:27:56.779329Z",
     "start_time": "2024-06-15T11:27:56.771586Z"
    }
   },
   "id": "6d4c7aada4921184",
   "execution_count": 27
  },
  {
   "cell_type": "code",
   "outputs": [],
   "source": [
    "'''Split the data'''\n",
    "from sklearn.model_selection import train_test_split\n",
    "X_train, X_test, y_train, y_test = train_test_split(X, y, test_size=0.20, random_state=0)"
   ],
   "metadata": {
    "collapsed": false,
    "ExecuteTime": {
     "end_time": "2024-06-15T11:28:16.724518Z",
     "start_time": "2024-06-15T11:28:16.695602Z"
    }
   },
   "id": "2571aab0408d765a",
   "execution_count": 28
  },
  {
   "cell_type": "code",
   "outputs": [
    {
     "name": "stdout",
     "output_type": "stream",
     "text": [
      "[[937  12]\n",
      " [ 15 151]]\n",
      "0.9757847533632287\n"
     ]
    }
   ],
   "source": [
    "'''NAIVE BAYES'''\n",
    "from sklearn.naive_bayes import GaussianNB\n",
    "from sklearn.naive_bayes import MultinomialNB\n",
    "from sklearn.metrics import confusion_matrix\n",
    "from sklearn.metrics import accuracy_score\n",
    "\n",
    "# nb_model = GaussianNB()\n",
    "nb_model = MultinomialNB()\n",
    "nb_model.fit(X_train, y_train)\n",
    "y_pred = nb_model.predict(X_test)\n",
    "cm = confusion_matrix(y_test, y_pred)\n",
    "accuracy = accuracy_score(y_test, y_pred)\n",
    "print(cm)\n",
    "print(accuracy)"
   ],
   "metadata": {
    "collapsed": false,
    "ExecuteTime": {
     "end_time": "2024-06-15T11:32:01.287174Z",
     "start_time": "2024-06-15T11:32:01.202254Z"
    }
   },
   "id": "e84d27700bf83d5e",
   "execution_count": 32
  },
  {
   "cell_type": "code",
   "outputs": [
    {
     "name": "stdout",
     "output_type": "stream",
     "text": [
      "[[944   5]\n",
      " [ 16 150]]\n",
      "0.9811659192825112\n"
     ]
    }
   ],
   "source": [
    "'''SVM'''\n",
    "from sklearn.svm import SVC\n",
    "svm_model = SVC(kernel='linear')\n",
    "svm_model.fit(X_train, y_train)\n",
    "y_pred = svm_model.predict(X_test)\n",
    "cm = confusion_matrix(y_test, y_pred)\n",
    "accuracy = accuracy_score(y_test, y_pred)\n",
    "print(cm)\n",
    "print(accuracy)"
   ],
   "metadata": {
    "collapsed": false,
    "ExecuteTime": {
     "end_time": "2024-06-15T11:41:51.794440Z",
     "start_time": "2024-06-15T11:41:49.359012Z"
    }
   },
   "id": "e26e907894d69af1",
   "execution_count": 46
  },
  {
   "cell_type": "code",
   "outputs": [
    {
     "name": "stdout",
     "output_type": "stream",
     "text": [
      "[[944   5]\n",
      " [ 29 137]]\n",
      "0.9695067264573991\n"
     ]
    }
   ],
   "source": [
    "'''Random Forest'''\n",
    "from sklearn.ensemble import RandomForestClassifier\n",
    "rf_model = RandomForestClassifier(n_estimators=10, criterion='entropy')\n",
    "rf_model.fit(X_train, y_train)\n",
    "y_pred = rf_model.predict(X_test)\n",
    "cm = confusion_matrix(y_test, y_pred)\n",
    "accuracy = accuracy_score(y_test, y_pred)\n",
    "print(cm)\n",
    "print(accuracy)"
   ],
   "metadata": {
    "collapsed": false,
    "ExecuteTime": {
     "end_time": "2024-06-15T11:42:22.689484Z",
     "start_time": "2024-06-15T11:42:21.757300Z"
    }
   },
   "id": "7e67be595d86a5b6",
   "execution_count": 47
  },
  {
   "cell_type": "code",
   "outputs": [
    {
     "name": "stdout",
     "output_type": "stream",
     "text": [
      "[[936  13]\n",
      " [ 27 139]]\n",
      "0.9641255605381166\n"
     ]
    }
   ],
   "source": [
    "'''DECISION TREE'''\n",
    "from sklearn.tree import DecisionTreeClassifier\n",
    "dt_model = DecisionTreeClassifier(criterion='entropy')\n",
    "dt_model.fit(X_train, y_train)\n",
    "y_pred = dt_model.predict(X_test)\n",
    "cm = confusion_matrix(y_test, y_pred)\n",
    "accuracy = accuracy_score(y_test, y_pred)\n",
    "print(cm)\n",
    "print(accuracy)"
   ],
   "metadata": {
    "collapsed": false,
    "ExecuteTime": {
     "end_time": "2024-06-15T11:43:15.787337Z",
     "start_time": "2024-06-15T11:43:13.124607Z"
    }
   },
   "id": "47fc47e52f498528",
   "execution_count": 48
  },
  {
   "cell_type": "code",
   "outputs": [],
   "source": [
    "def predict(message, model=nb_model, cv=cv):\n",
    "    review = re.sub('[^a-zA-Z]', ' ', message)\n",
    "    review = review.lower()\n",
    "    ps = PorterStemmer()\n",
    "    review = [ps.stem(word) for word in review.split() if not word in set(stopwords.words('english'))]\n",
    "    review = ' '.join(review)\n",
    "    isSpam = model.predict(cv.transform([review]).toarray())\n",
    "    if isSpam:\n",
    "        print('Spam')\n",
    "    else:\n",
    "        print('Not Spam')\n",
    "    return isSpam "
   ],
   "metadata": {
    "collapsed": false,
    "ExecuteTime": {
     "end_time": "2024-06-15T11:37:35.668095Z",
     "start_time": "2024-06-15T11:37:35.661195Z"
    }
   },
   "id": "9271680e9d61b51d",
   "execution_count": 41
  },
  {
   "cell_type": "code",
   "outputs": [
    {
     "name": "stdout",
     "output_type": "stream",
     "text": [
      "Spam\n"
     ]
    },
    {
     "data": {
      "text/plain": "array([1], dtype=int64)"
     },
     "execution_count": 45,
     "metadata": {},
     "output_type": "execute_result"
    }
   ],
   "source": [],
   "metadata": {
    "collapsed": false,
    "ExecuteTime": {
     "end_time": "2024-06-15T11:38:52.270281Z",
     "start_time": "2024-06-15T11:38:52.254848Z"
    }
   },
   "id": "11840606ea5b9143",
   "execution_count": 45
  }
 ],
 "metadata": {
  "kernelspec": {
   "display_name": "Python 3",
   "language": "python",
   "name": "python3"
  },
  "language_info": {
   "codemirror_mode": {
    "name": "ipython",
    "version": 2
   },
   "file_extension": ".py",
   "mimetype": "text/x-python",
   "name": "python",
   "nbconvert_exporter": "python",
   "pygments_lexer": "ipython2",
   "version": "2.7.6"
  }
 },
 "nbformat": 4,
 "nbformat_minor": 5
}
